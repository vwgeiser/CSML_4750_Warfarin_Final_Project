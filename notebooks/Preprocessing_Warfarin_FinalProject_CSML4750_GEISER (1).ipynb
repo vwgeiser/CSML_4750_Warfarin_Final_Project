{
  "nbformat": 4,
  "nbformat_minor": 0,
  "metadata": {
    "colab": {
      "provenance": []
    },
    "kernelspec": {
      "name": "python3",
      "display_name": "Python 3"
    },
    "language_info": {
      "name": "python"
    }
  },
  "cells": [
    {
      "cell_type": "code",
      "execution_count": 1,
      "metadata": {
        "colab": {
          "base_uri": "https://localhost:8080/"
        },
        "id": "oOYiEuCnJefq",
        "outputId": "6bc4dfd9-d040-4113-b282-d854b72cd4e1"
      },
      "outputs": [
        {
          "output_type": "stream",
          "name": "stdout",
          "text": [
            "Mounted at /content/drive\n"
          ]
        }
      ],
      "source": [
        "from google.colab import drive\n",
        "drive.mount('/content/drive')"
      ]
    },
    {
      "cell_type": "code",
      "source": [
        "import os\n",
        "os.chdir('/content/drive/MyDrive/23-24 Senior Year/CSML/FinalProject')\n",
        "print(os.getcwd())"
      ],
      "metadata": {
        "colab": {
          "base_uri": "https://localhost:8080/"
        },
        "id": "HbEPWQrnKQjr",
        "outputId": "2d820e3d-f282-4b92-f439-df1eca582138"
      },
      "execution_count": 2,
      "outputs": [
        {
          "output_type": "stream",
          "name": "stdout",
          "text": [
            "/content/drive/MyDrive/23-24 Senior Year/CSML/FinalProject\n"
          ]
        }
      ]
    },
    {
      "cell_type": "code",
      "source": [
        "import numpy as np\n",
        "import pandas as pd\n",
        "from sklearn.preprocessing import LabelEncoder\n",
        "from sklearn.impute import MissingIndicator\n",
        "from sklearn.impute import KNNImputer\n",
        "from sklearn.impute import SimpleImputer"
      ],
      "metadata": {
        "id": "J6M1JTTdKruo"
      },
      "execution_count": 3,
      "outputs": []
    },
    {
      "cell_type": "code",
      "source": [
        "data = pd.read_excel('finalCSMLinputWarfarin.xlsx')"
      ],
      "metadata": {
        "id": "mjaX6oSfKvOQ"
      },
      "execution_count": 4,
      "outputs": []
    },
    {
      "cell_type": "code",
      "source": [
        "# Exploratory Analysis"
      ],
      "metadata": {
        "id": "xCcdnQ0yLwMC"
      },
      "execution_count": 5,
      "outputs": []
    },
    {
      "cell_type": "code",
      "source": [
        "data"
      ],
      "metadata": {
        "colab": {
          "base_uri": "https://localhost:8080/",
          "height": 632
        },
        "id": "gIiueiB2LSoj",
        "outputId": "d2e8946f-bde3-4417-ffe0-a41df76e8273"
      },
      "execution_count": 6,
      "outputs": [
        {
          "output_type": "execute_result",
          "data": {
            "text/plain": [
              "      Gender Race (Reported)      Age  Height (cm)  Weight (kg)  Diabetes  \\\n",
              "0       male           White  60 - 69      193.040       115.70       NaN   \n",
              "1     female           White  50 - 59      176.530       144.20       NaN   \n",
              "2     female           White  40 - 49      162.560        77.10       NaN   \n",
              "3       male           White  60 - 69      182.245        90.70       NaN   \n",
              "4       male           White  50 - 59      167.640        72.60       NaN   \n",
              "...      ...             ...      ...          ...          ...       ...   \n",
              "5695    male           White  20 - 29      185.420       113.64       0.0   \n",
              "5696  female           White  70 - 79      160.020        55.91       0.0   \n",
              "5697    male           White  60 - 69      187.960        97.73       0.0   \n",
              "5698    male           White  60 - 69      177.800        87.27       0.0   \n",
              "5699    male           White  70 - 79      190.500        79.55       0.0   \n",
              "\n",
              "      Simvastatin (Zocor)  Amiodarone (Cordarone)  Target INR  \\\n",
              "0                     0.0                     0.0         2.5   \n",
              "1                     0.0                     0.0         2.5   \n",
              "2                     0.0                     0.0         2.5   \n",
              "3                     0.0                     0.0         2.5   \n",
              "4                     0.0                     0.0         2.5   \n",
              "...                   ...                     ...         ...   \n",
              "5695                  0.0                     0.0         NaN   \n",
              "5696                  0.0                     0.0         NaN   \n",
              "5697                  0.0                     0.0         NaN   \n",
              "5698                  0.0                     0.0         NaN   \n",
              "5699                  0.0                     0.0         NaN   \n",
              "\n",
              "      INR on Reported Therapeutic Dose of Warfarin Cyp2C9 genotypes  \\\n",
              "0                                             2.60            *1/*1   \n",
              "1                                             2.15            *1/*1   \n",
              "2                                             1.90            *1/*1   \n",
              "3                                             2.40            *1/*1   \n",
              "4                                             1.90            *1/*3   \n",
              "...                                            ...              ...   \n",
              "5695                                          2.80            *1/*1   \n",
              "5696                                          2.80            *1/*3   \n",
              "5697                                          2.00            *1/*1   \n",
              "5698                                          2.00              NaN   \n",
              "5699                                          3.00              NaN   \n",
              "\n",
              "     VKORC1 genotype: -1639 G>A (3673); chr16:31015190; rs9923231; C/T  \\\n",
              "0                                                   A/G                  \n",
              "1                                                   A/A                  \n",
              "2                                                   G/G                  \n",
              "3                                                   A/G                  \n",
              "4                                                   A/G                  \n",
              "...                                                 ...                  \n",
              "5695                                                NaN                  \n",
              "5696                                                NaN                  \n",
              "5697                                                NaN                  \n",
              "5698                                                NaN                  \n",
              "5699                                                NaN                  \n",
              "\n",
              "      Therapeutic Dose of Warfarin  \n",
              "0                            49.00  \n",
              "1                            42.00  \n",
              "2                            53.00  \n",
              "3                            28.00  \n",
              "4                            42.00  \n",
              "...                            ...  \n",
              "5695                         52.50  \n",
              "5696                         27.51  \n",
              "5697                         57.47  \n",
              "5698                         70.00  \n",
              "5699                         24.01  \n",
              "\n",
              "[5700 rows x 13 columns]"
            ],
            "text/html": [
              "\n",
              "  <div id=\"df-bc8e9def-9747-4774-b6d8-3bb1028c01f6\" class=\"colab-df-container\">\n",
              "    <div>\n",
              "<style scoped>\n",
              "    .dataframe tbody tr th:only-of-type {\n",
              "        vertical-align: middle;\n",
              "    }\n",
              "\n",
              "    .dataframe tbody tr th {\n",
              "        vertical-align: top;\n",
              "    }\n",
              "\n",
              "    .dataframe thead th {\n",
              "        text-align: right;\n",
              "    }\n",
              "</style>\n",
              "<table border=\"1\" class=\"dataframe\">\n",
              "  <thead>\n",
              "    <tr style=\"text-align: right;\">\n",
              "      <th></th>\n",
              "      <th>Gender</th>\n",
              "      <th>Race (Reported)</th>\n",
              "      <th>Age</th>\n",
              "      <th>Height (cm)</th>\n",
              "      <th>Weight (kg)</th>\n",
              "      <th>Diabetes</th>\n",
              "      <th>Simvastatin (Zocor)</th>\n",
              "      <th>Amiodarone (Cordarone)</th>\n",
              "      <th>Target INR</th>\n",
              "      <th>INR on Reported Therapeutic Dose of Warfarin</th>\n",
              "      <th>Cyp2C9 genotypes</th>\n",
              "      <th>VKORC1 genotype: -1639 G&gt;A (3673); chr16:31015190; rs9923231; C/T</th>\n",
              "      <th>Therapeutic Dose of Warfarin</th>\n",
              "    </tr>\n",
              "  </thead>\n",
              "  <tbody>\n",
              "    <tr>\n",
              "      <th>0</th>\n",
              "      <td>male</td>\n",
              "      <td>White</td>\n",
              "      <td>60 - 69</td>\n",
              "      <td>193.040</td>\n",
              "      <td>115.70</td>\n",
              "      <td>NaN</td>\n",
              "      <td>0.0</td>\n",
              "      <td>0.0</td>\n",
              "      <td>2.5</td>\n",
              "      <td>2.60</td>\n",
              "      <td>*1/*1</td>\n",
              "      <td>A/G</td>\n",
              "      <td>49.00</td>\n",
              "    </tr>\n",
              "    <tr>\n",
              "      <th>1</th>\n",
              "      <td>female</td>\n",
              "      <td>White</td>\n",
              "      <td>50 - 59</td>\n",
              "      <td>176.530</td>\n",
              "      <td>144.20</td>\n",
              "      <td>NaN</td>\n",
              "      <td>0.0</td>\n",
              "      <td>0.0</td>\n",
              "      <td>2.5</td>\n",
              "      <td>2.15</td>\n",
              "      <td>*1/*1</td>\n",
              "      <td>A/A</td>\n",
              "      <td>42.00</td>\n",
              "    </tr>\n",
              "    <tr>\n",
              "      <th>2</th>\n",
              "      <td>female</td>\n",
              "      <td>White</td>\n",
              "      <td>40 - 49</td>\n",
              "      <td>162.560</td>\n",
              "      <td>77.10</td>\n",
              "      <td>NaN</td>\n",
              "      <td>0.0</td>\n",
              "      <td>0.0</td>\n",
              "      <td>2.5</td>\n",
              "      <td>1.90</td>\n",
              "      <td>*1/*1</td>\n",
              "      <td>G/G</td>\n",
              "      <td>53.00</td>\n",
              "    </tr>\n",
              "    <tr>\n",
              "      <th>3</th>\n",
              "      <td>male</td>\n",
              "      <td>White</td>\n",
              "      <td>60 - 69</td>\n",
              "      <td>182.245</td>\n",
              "      <td>90.70</td>\n",
              "      <td>NaN</td>\n",
              "      <td>0.0</td>\n",
              "      <td>0.0</td>\n",
              "      <td>2.5</td>\n",
              "      <td>2.40</td>\n",
              "      <td>*1/*1</td>\n",
              "      <td>A/G</td>\n",
              "      <td>28.00</td>\n",
              "    </tr>\n",
              "    <tr>\n",
              "      <th>4</th>\n",
              "      <td>male</td>\n",
              "      <td>White</td>\n",
              "      <td>50 - 59</td>\n",
              "      <td>167.640</td>\n",
              "      <td>72.60</td>\n",
              "      <td>NaN</td>\n",
              "      <td>0.0</td>\n",
              "      <td>0.0</td>\n",
              "      <td>2.5</td>\n",
              "      <td>1.90</td>\n",
              "      <td>*1/*3</td>\n",
              "      <td>A/G</td>\n",
              "      <td>42.00</td>\n",
              "    </tr>\n",
              "    <tr>\n",
              "      <th>...</th>\n",
              "      <td>...</td>\n",
              "      <td>...</td>\n",
              "      <td>...</td>\n",
              "      <td>...</td>\n",
              "      <td>...</td>\n",
              "      <td>...</td>\n",
              "      <td>...</td>\n",
              "      <td>...</td>\n",
              "      <td>...</td>\n",
              "      <td>...</td>\n",
              "      <td>...</td>\n",
              "      <td>...</td>\n",
              "      <td>...</td>\n",
              "    </tr>\n",
              "    <tr>\n",
              "      <th>5695</th>\n",
              "      <td>male</td>\n",
              "      <td>White</td>\n",
              "      <td>20 - 29</td>\n",
              "      <td>185.420</td>\n",
              "      <td>113.64</td>\n",
              "      <td>0.0</td>\n",
              "      <td>0.0</td>\n",
              "      <td>0.0</td>\n",
              "      <td>NaN</td>\n",
              "      <td>2.80</td>\n",
              "      <td>*1/*1</td>\n",
              "      <td>NaN</td>\n",
              "      <td>52.50</td>\n",
              "    </tr>\n",
              "    <tr>\n",
              "      <th>5696</th>\n",
              "      <td>female</td>\n",
              "      <td>White</td>\n",
              "      <td>70 - 79</td>\n",
              "      <td>160.020</td>\n",
              "      <td>55.91</td>\n",
              "      <td>0.0</td>\n",
              "      <td>0.0</td>\n",
              "      <td>0.0</td>\n",
              "      <td>NaN</td>\n",
              "      <td>2.80</td>\n",
              "      <td>*1/*3</td>\n",
              "      <td>NaN</td>\n",
              "      <td>27.51</td>\n",
              "    </tr>\n",
              "    <tr>\n",
              "      <th>5697</th>\n",
              "      <td>male</td>\n",
              "      <td>White</td>\n",
              "      <td>60 - 69</td>\n",
              "      <td>187.960</td>\n",
              "      <td>97.73</td>\n",
              "      <td>0.0</td>\n",
              "      <td>0.0</td>\n",
              "      <td>0.0</td>\n",
              "      <td>NaN</td>\n",
              "      <td>2.00</td>\n",
              "      <td>*1/*1</td>\n",
              "      <td>NaN</td>\n",
              "      <td>57.47</td>\n",
              "    </tr>\n",
              "    <tr>\n",
              "      <th>5698</th>\n",
              "      <td>male</td>\n",
              "      <td>White</td>\n",
              "      <td>60 - 69</td>\n",
              "      <td>177.800</td>\n",
              "      <td>87.27</td>\n",
              "      <td>0.0</td>\n",
              "      <td>0.0</td>\n",
              "      <td>0.0</td>\n",
              "      <td>NaN</td>\n",
              "      <td>2.00</td>\n",
              "      <td>NaN</td>\n",
              "      <td>NaN</td>\n",
              "      <td>70.00</td>\n",
              "    </tr>\n",
              "    <tr>\n",
              "      <th>5699</th>\n",
              "      <td>male</td>\n",
              "      <td>White</td>\n",
              "      <td>70 - 79</td>\n",
              "      <td>190.500</td>\n",
              "      <td>79.55</td>\n",
              "      <td>0.0</td>\n",
              "      <td>0.0</td>\n",
              "      <td>0.0</td>\n",
              "      <td>NaN</td>\n",
              "      <td>3.00</td>\n",
              "      <td>NaN</td>\n",
              "      <td>NaN</td>\n",
              "      <td>24.01</td>\n",
              "    </tr>\n",
              "  </tbody>\n",
              "</table>\n",
              "<p>5700 rows × 13 columns</p>\n",
              "</div>\n",
              "    <div class=\"colab-df-buttons\">\n",
              "\n",
              "  <div class=\"colab-df-container\">\n",
              "    <button class=\"colab-df-convert\" onclick=\"convertToInteractive('df-bc8e9def-9747-4774-b6d8-3bb1028c01f6')\"\n",
              "            title=\"Convert this dataframe to an interactive table.\"\n",
              "            style=\"display:none;\">\n",
              "\n",
              "  <svg xmlns=\"http://www.w3.org/2000/svg\" height=\"24px\" viewBox=\"0 -960 960 960\">\n",
              "    <path d=\"M120-120v-720h720v720H120Zm60-500h600v-160H180v160Zm220 220h160v-160H400v160Zm0 220h160v-160H400v160ZM180-400h160v-160H180v160Zm440 0h160v-160H620v160ZM180-180h160v-160H180v160Zm440 0h160v-160H620v160Z\"/>\n",
              "  </svg>\n",
              "    </button>\n",
              "\n",
              "  <style>\n",
              "    .colab-df-container {\n",
              "      display:flex;\n",
              "      gap: 12px;\n",
              "    }\n",
              "\n",
              "    .colab-df-convert {\n",
              "      background-color: #E8F0FE;\n",
              "      border: none;\n",
              "      border-radius: 50%;\n",
              "      cursor: pointer;\n",
              "      display: none;\n",
              "      fill: #1967D2;\n",
              "      height: 32px;\n",
              "      padding: 0 0 0 0;\n",
              "      width: 32px;\n",
              "    }\n",
              "\n",
              "    .colab-df-convert:hover {\n",
              "      background-color: #E2EBFA;\n",
              "      box-shadow: 0px 1px 2px rgba(60, 64, 67, 0.3), 0px 1px 3px 1px rgba(60, 64, 67, 0.15);\n",
              "      fill: #174EA6;\n",
              "    }\n",
              "\n",
              "    .colab-df-buttons div {\n",
              "      margin-bottom: 4px;\n",
              "    }\n",
              "\n",
              "    [theme=dark] .colab-df-convert {\n",
              "      background-color: #3B4455;\n",
              "      fill: #D2E3FC;\n",
              "    }\n",
              "\n",
              "    [theme=dark] .colab-df-convert:hover {\n",
              "      background-color: #434B5C;\n",
              "      box-shadow: 0px 1px 3px 1px rgba(0, 0, 0, 0.15);\n",
              "      filter: drop-shadow(0px 1px 2px rgba(0, 0, 0, 0.3));\n",
              "      fill: #FFFFFF;\n",
              "    }\n",
              "  </style>\n",
              "\n",
              "    <script>\n",
              "      const buttonEl =\n",
              "        document.querySelector('#df-bc8e9def-9747-4774-b6d8-3bb1028c01f6 button.colab-df-convert');\n",
              "      buttonEl.style.display =\n",
              "        google.colab.kernel.accessAllowed ? 'block' : 'none';\n",
              "\n",
              "      async function convertToInteractive(key) {\n",
              "        const element = document.querySelector('#df-bc8e9def-9747-4774-b6d8-3bb1028c01f6');\n",
              "        const dataTable =\n",
              "          await google.colab.kernel.invokeFunction('convertToInteractive',\n",
              "                                                    [key], {});\n",
              "        if (!dataTable) return;\n",
              "\n",
              "        const docLinkHtml = 'Like what you see? Visit the ' +\n",
              "          '<a target=\"_blank\" href=https://colab.research.google.com/notebooks/data_table.ipynb>data table notebook</a>'\n",
              "          + ' to learn more about interactive tables.';\n",
              "        element.innerHTML = '';\n",
              "        dataTable['output_type'] = 'display_data';\n",
              "        await google.colab.output.renderOutput(dataTable, element);\n",
              "        const docLink = document.createElement('div');\n",
              "        docLink.innerHTML = docLinkHtml;\n",
              "        element.appendChild(docLink);\n",
              "      }\n",
              "    </script>\n",
              "  </div>\n",
              "\n",
              "\n",
              "<div id=\"df-6b1796b6-da29-4501-a0cd-56a61b6e8288\">\n",
              "  <button class=\"colab-df-quickchart\" onclick=\"quickchart('df-6b1796b6-da29-4501-a0cd-56a61b6e8288')\"\n",
              "            title=\"Suggest charts\"\n",
              "            style=\"display:none;\">\n",
              "\n",
              "<svg xmlns=\"http://www.w3.org/2000/svg\" height=\"24px\"viewBox=\"0 0 24 24\"\n",
              "     width=\"24px\">\n",
              "    <g>\n",
              "        <path d=\"M19 3H5c-1.1 0-2 .9-2 2v14c0 1.1.9 2 2 2h14c1.1 0 2-.9 2-2V5c0-1.1-.9-2-2-2zM9 17H7v-7h2v7zm4 0h-2V7h2v10zm4 0h-2v-4h2v4z\"/>\n",
              "    </g>\n",
              "</svg>\n",
              "  </button>\n",
              "\n",
              "<style>\n",
              "  .colab-df-quickchart {\n",
              "      --bg-color: #E8F0FE;\n",
              "      --fill-color: #1967D2;\n",
              "      --hover-bg-color: #E2EBFA;\n",
              "      --hover-fill-color: #174EA6;\n",
              "      --disabled-fill-color: #AAA;\n",
              "      --disabled-bg-color: #DDD;\n",
              "  }\n",
              "\n",
              "  [theme=dark] .colab-df-quickchart {\n",
              "      --bg-color: #3B4455;\n",
              "      --fill-color: #D2E3FC;\n",
              "      --hover-bg-color: #434B5C;\n",
              "      --hover-fill-color: #FFFFFF;\n",
              "      --disabled-bg-color: #3B4455;\n",
              "      --disabled-fill-color: #666;\n",
              "  }\n",
              "\n",
              "  .colab-df-quickchart {\n",
              "    background-color: var(--bg-color);\n",
              "    border: none;\n",
              "    border-radius: 50%;\n",
              "    cursor: pointer;\n",
              "    display: none;\n",
              "    fill: var(--fill-color);\n",
              "    height: 32px;\n",
              "    padding: 0;\n",
              "    width: 32px;\n",
              "  }\n",
              "\n",
              "  .colab-df-quickchart:hover {\n",
              "    background-color: var(--hover-bg-color);\n",
              "    box-shadow: 0 1px 2px rgba(60, 64, 67, 0.3), 0 1px 3px 1px rgba(60, 64, 67, 0.15);\n",
              "    fill: var(--button-hover-fill-color);\n",
              "  }\n",
              "\n",
              "  .colab-df-quickchart-complete:disabled,\n",
              "  .colab-df-quickchart-complete:disabled:hover {\n",
              "    background-color: var(--disabled-bg-color);\n",
              "    fill: var(--disabled-fill-color);\n",
              "    box-shadow: none;\n",
              "  }\n",
              "\n",
              "  .colab-df-spinner {\n",
              "    border: 2px solid var(--fill-color);\n",
              "    border-color: transparent;\n",
              "    border-bottom-color: var(--fill-color);\n",
              "    animation:\n",
              "      spin 1s steps(1) infinite;\n",
              "  }\n",
              "\n",
              "  @keyframes spin {\n",
              "    0% {\n",
              "      border-color: transparent;\n",
              "      border-bottom-color: var(--fill-color);\n",
              "      border-left-color: var(--fill-color);\n",
              "    }\n",
              "    20% {\n",
              "      border-color: transparent;\n",
              "      border-left-color: var(--fill-color);\n",
              "      border-top-color: var(--fill-color);\n",
              "    }\n",
              "    30% {\n",
              "      border-color: transparent;\n",
              "      border-left-color: var(--fill-color);\n",
              "      border-top-color: var(--fill-color);\n",
              "      border-right-color: var(--fill-color);\n",
              "    }\n",
              "    40% {\n",
              "      border-color: transparent;\n",
              "      border-right-color: var(--fill-color);\n",
              "      border-top-color: var(--fill-color);\n",
              "    }\n",
              "    60% {\n",
              "      border-color: transparent;\n",
              "      border-right-color: var(--fill-color);\n",
              "    }\n",
              "    80% {\n",
              "      border-color: transparent;\n",
              "      border-right-color: var(--fill-color);\n",
              "      border-bottom-color: var(--fill-color);\n",
              "    }\n",
              "    90% {\n",
              "      border-color: transparent;\n",
              "      border-bottom-color: var(--fill-color);\n",
              "    }\n",
              "  }\n",
              "</style>\n",
              "\n",
              "  <script>\n",
              "    async function quickchart(key) {\n",
              "      const quickchartButtonEl =\n",
              "        document.querySelector('#' + key + ' button');\n",
              "      quickchartButtonEl.disabled = true;  // To prevent multiple clicks.\n",
              "      quickchartButtonEl.classList.add('colab-df-spinner');\n",
              "      try {\n",
              "        const charts = await google.colab.kernel.invokeFunction(\n",
              "            'suggestCharts', [key], {});\n",
              "      } catch (error) {\n",
              "        console.error('Error during call to suggestCharts:', error);\n",
              "      }\n",
              "      quickchartButtonEl.classList.remove('colab-df-spinner');\n",
              "      quickchartButtonEl.classList.add('colab-df-quickchart-complete');\n",
              "    }\n",
              "    (() => {\n",
              "      let quickchartButtonEl =\n",
              "        document.querySelector('#df-6b1796b6-da29-4501-a0cd-56a61b6e8288 button');\n",
              "      quickchartButtonEl.style.display =\n",
              "        google.colab.kernel.accessAllowed ? 'block' : 'none';\n",
              "    })();\n",
              "  </script>\n",
              "</div>\n",
              "    </div>\n",
              "  </div>\n"
            ]
          },
          "metadata": {},
          "execution_count": 6
        }
      ]
    },
    {
      "cell_type": "code",
      "source": [
        "data.describe()"
      ],
      "metadata": {
        "colab": {
          "base_uri": "https://localhost:8080/",
          "height": 300
        },
        "id": "AoVYrukDLhdS",
        "outputId": "e52e9386-90f1-46db-8f7c-1ff464657526"
      },
      "execution_count": 7,
      "outputs": [
        {
          "output_type": "execute_result",
          "data": {
            "text/plain": [
              "       Height (cm)  Weight (kg)     Diabetes  Simvastatin (Zocor)  \\\n",
              "count  4554.000000  5413.000000  3283.000000          3861.000000   \n",
              "mean    168.047778    77.852569     0.187024             0.146335   \n",
              "std      10.845992    21.859764     0.389990             0.353488   \n",
              "min     124.968000    30.000000     0.000000             0.000000   \n",
              "25%     160.020000    62.000000     0.000000             0.000000   \n",
              "50%     167.894000    75.000000     0.000000             0.000000   \n",
              "75%     176.022000    90.000000     0.000000             0.000000   \n",
              "max     202.000000   237.700000     1.000000             1.000000   \n",
              "\n",
              "       Amiodarone (Cordarone)   Target INR  \\\n",
              "count             4182.000000  1259.000000   \n",
              "mean                 0.066236     2.538324   \n",
              "std                  0.248724     0.198140   \n",
              "min                  0.000000     1.300000   \n",
              "25%                  0.000000     2.500000   \n",
              "50%                  0.000000     2.500000   \n",
              "75%                  0.000000     2.500000   \n",
              "max                  1.000000     3.500000   \n",
              "\n",
              "       INR on Reported Therapeutic Dose of Warfarin  \\\n",
              "count                                   4968.000000   \n",
              "mean                                       2.364438   \n",
              "std                                        0.464644   \n",
              "min                                        0.800000   \n",
              "25%                                        2.100000   \n",
              "50%                                        2.400000   \n",
              "75%                                        2.610000   \n",
              "max                                        6.100000   \n",
              "\n",
              "       Therapeutic Dose of Warfarin  \n",
              "count                   5528.000000  \n",
              "mean                      30.977887  \n",
              "std                       16.801048  \n",
              "min                        2.100000  \n",
              "25%                       19.530000  \n",
              "50%                       28.000000  \n",
              "75%                       38.500000  \n",
              "max                      315.000000  "
            ],
            "text/html": [
              "\n",
              "  <div id=\"df-fc90f509-4511-4914-9b04-a749fc74043e\" class=\"colab-df-container\">\n",
              "    <div>\n",
              "<style scoped>\n",
              "    .dataframe tbody tr th:only-of-type {\n",
              "        vertical-align: middle;\n",
              "    }\n",
              "\n",
              "    .dataframe tbody tr th {\n",
              "        vertical-align: top;\n",
              "    }\n",
              "\n",
              "    .dataframe thead th {\n",
              "        text-align: right;\n",
              "    }\n",
              "</style>\n",
              "<table border=\"1\" class=\"dataframe\">\n",
              "  <thead>\n",
              "    <tr style=\"text-align: right;\">\n",
              "      <th></th>\n",
              "      <th>Height (cm)</th>\n",
              "      <th>Weight (kg)</th>\n",
              "      <th>Diabetes</th>\n",
              "      <th>Simvastatin (Zocor)</th>\n",
              "      <th>Amiodarone (Cordarone)</th>\n",
              "      <th>Target INR</th>\n",
              "      <th>INR on Reported Therapeutic Dose of Warfarin</th>\n",
              "      <th>Therapeutic Dose of Warfarin</th>\n",
              "    </tr>\n",
              "  </thead>\n",
              "  <tbody>\n",
              "    <tr>\n",
              "      <th>count</th>\n",
              "      <td>4554.000000</td>\n",
              "      <td>5413.000000</td>\n",
              "      <td>3283.000000</td>\n",
              "      <td>3861.000000</td>\n",
              "      <td>4182.000000</td>\n",
              "      <td>1259.000000</td>\n",
              "      <td>4968.000000</td>\n",
              "      <td>5528.000000</td>\n",
              "    </tr>\n",
              "    <tr>\n",
              "      <th>mean</th>\n",
              "      <td>168.047778</td>\n",
              "      <td>77.852569</td>\n",
              "      <td>0.187024</td>\n",
              "      <td>0.146335</td>\n",
              "      <td>0.066236</td>\n",
              "      <td>2.538324</td>\n",
              "      <td>2.364438</td>\n",
              "      <td>30.977887</td>\n",
              "    </tr>\n",
              "    <tr>\n",
              "      <th>std</th>\n",
              "      <td>10.845992</td>\n",
              "      <td>21.859764</td>\n",
              "      <td>0.389990</td>\n",
              "      <td>0.353488</td>\n",
              "      <td>0.248724</td>\n",
              "      <td>0.198140</td>\n",
              "      <td>0.464644</td>\n",
              "      <td>16.801048</td>\n",
              "    </tr>\n",
              "    <tr>\n",
              "      <th>min</th>\n",
              "      <td>124.968000</td>\n",
              "      <td>30.000000</td>\n",
              "      <td>0.000000</td>\n",
              "      <td>0.000000</td>\n",
              "      <td>0.000000</td>\n",
              "      <td>1.300000</td>\n",
              "      <td>0.800000</td>\n",
              "      <td>2.100000</td>\n",
              "    </tr>\n",
              "    <tr>\n",
              "      <th>25%</th>\n",
              "      <td>160.020000</td>\n",
              "      <td>62.000000</td>\n",
              "      <td>0.000000</td>\n",
              "      <td>0.000000</td>\n",
              "      <td>0.000000</td>\n",
              "      <td>2.500000</td>\n",
              "      <td>2.100000</td>\n",
              "      <td>19.530000</td>\n",
              "    </tr>\n",
              "    <tr>\n",
              "      <th>50%</th>\n",
              "      <td>167.894000</td>\n",
              "      <td>75.000000</td>\n",
              "      <td>0.000000</td>\n",
              "      <td>0.000000</td>\n",
              "      <td>0.000000</td>\n",
              "      <td>2.500000</td>\n",
              "      <td>2.400000</td>\n",
              "      <td>28.000000</td>\n",
              "    </tr>\n",
              "    <tr>\n",
              "      <th>75%</th>\n",
              "      <td>176.022000</td>\n",
              "      <td>90.000000</td>\n",
              "      <td>0.000000</td>\n",
              "      <td>0.000000</td>\n",
              "      <td>0.000000</td>\n",
              "      <td>2.500000</td>\n",
              "      <td>2.610000</td>\n",
              "      <td>38.500000</td>\n",
              "    </tr>\n",
              "    <tr>\n",
              "      <th>max</th>\n",
              "      <td>202.000000</td>\n",
              "      <td>237.700000</td>\n",
              "      <td>1.000000</td>\n",
              "      <td>1.000000</td>\n",
              "      <td>1.000000</td>\n",
              "      <td>3.500000</td>\n",
              "      <td>6.100000</td>\n",
              "      <td>315.000000</td>\n",
              "    </tr>\n",
              "  </tbody>\n",
              "</table>\n",
              "</div>\n",
              "    <div class=\"colab-df-buttons\">\n",
              "\n",
              "  <div class=\"colab-df-container\">\n",
              "    <button class=\"colab-df-convert\" onclick=\"convertToInteractive('df-fc90f509-4511-4914-9b04-a749fc74043e')\"\n",
              "            title=\"Convert this dataframe to an interactive table.\"\n",
              "            style=\"display:none;\">\n",
              "\n",
              "  <svg xmlns=\"http://www.w3.org/2000/svg\" height=\"24px\" viewBox=\"0 -960 960 960\">\n",
              "    <path d=\"M120-120v-720h720v720H120Zm60-500h600v-160H180v160Zm220 220h160v-160H400v160Zm0 220h160v-160H400v160ZM180-400h160v-160H180v160Zm440 0h160v-160H620v160ZM180-180h160v-160H180v160Zm440 0h160v-160H620v160Z\"/>\n",
              "  </svg>\n",
              "    </button>\n",
              "\n",
              "  <style>\n",
              "    .colab-df-container {\n",
              "      display:flex;\n",
              "      gap: 12px;\n",
              "    }\n",
              "\n",
              "    .colab-df-convert {\n",
              "      background-color: #E8F0FE;\n",
              "      border: none;\n",
              "      border-radius: 50%;\n",
              "      cursor: pointer;\n",
              "      display: none;\n",
              "      fill: #1967D2;\n",
              "      height: 32px;\n",
              "      padding: 0 0 0 0;\n",
              "      width: 32px;\n",
              "    }\n",
              "\n",
              "    .colab-df-convert:hover {\n",
              "      background-color: #E2EBFA;\n",
              "      box-shadow: 0px 1px 2px rgba(60, 64, 67, 0.3), 0px 1px 3px 1px rgba(60, 64, 67, 0.15);\n",
              "      fill: #174EA6;\n",
              "    }\n",
              "\n",
              "    .colab-df-buttons div {\n",
              "      margin-bottom: 4px;\n",
              "    }\n",
              "\n",
              "    [theme=dark] .colab-df-convert {\n",
              "      background-color: #3B4455;\n",
              "      fill: #D2E3FC;\n",
              "    }\n",
              "\n",
              "    [theme=dark] .colab-df-convert:hover {\n",
              "      background-color: #434B5C;\n",
              "      box-shadow: 0px 1px 3px 1px rgba(0, 0, 0, 0.15);\n",
              "      filter: drop-shadow(0px 1px 2px rgba(0, 0, 0, 0.3));\n",
              "      fill: #FFFFFF;\n",
              "    }\n",
              "  </style>\n",
              "\n",
              "    <script>\n",
              "      const buttonEl =\n",
              "        document.querySelector('#df-fc90f509-4511-4914-9b04-a749fc74043e button.colab-df-convert');\n",
              "      buttonEl.style.display =\n",
              "        google.colab.kernel.accessAllowed ? 'block' : 'none';\n",
              "\n",
              "      async function convertToInteractive(key) {\n",
              "        const element = document.querySelector('#df-fc90f509-4511-4914-9b04-a749fc74043e');\n",
              "        const dataTable =\n",
              "          await google.colab.kernel.invokeFunction('convertToInteractive',\n",
              "                                                    [key], {});\n",
              "        if (!dataTable) return;\n",
              "\n",
              "        const docLinkHtml = 'Like what you see? Visit the ' +\n",
              "          '<a target=\"_blank\" href=https://colab.research.google.com/notebooks/data_table.ipynb>data table notebook</a>'\n",
              "          + ' to learn more about interactive tables.';\n",
              "        element.innerHTML = '';\n",
              "        dataTable['output_type'] = 'display_data';\n",
              "        await google.colab.output.renderOutput(dataTable, element);\n",
              "        const docLink = document.createElement('div');\n",
              "        docLink.innerHTML = docLinkHtml;\n",
              "        element.appendChild(docLink);\n",
              "      }\n",
              "    </script>\n",
              "  </div>\n",
              "\n",
              "\n",
              "<div id=\"df-3aaf0541-431d-46b4-b52a-4a52956cdc7c\">\n",
              "  <button class=\"colab-df-quickchart\" onclick=\"quickchart('df-3aaf0541-431d-46b4-b52a-4a52956cdc7c')\"\n",
              "            title=\"Suggest charts\"\n",
              "            style=\"display:none;\">\n",
              "\n",
              "<svg xmlns=\"http://www.w3.org/2000/svg\" height=\"24px\"viewBox=\"0 0 24 24\"\n",
              "     width=\"24px\">\n",
              "    <g>\n",
              "        <path d=\"M19 3H5c-1.1 0-2 .9-2 2v14c0 1.1.9 2 2 2h14c1.1 0 2-.9 2-2V5c0-1.1-.9-2-2-2zM9 17H7v-7h2v7zm4 0h-2V7h2v10zm4 0h-2v-4h2v4z\"/>\n",
              "    </g>\n",
              "</svg>\n",
              "  </button>\n",
              "\n",
              "<style>\n",
              "  .colab-df-quickchart {\n",
              "      --bg-color: #E8F0FE;\n",
              "      --fill-color: #1967D2;\n",
              "      --hover-bg-color: #E2EBFA;\n",
              "      --hover-fill-color: #174EA6;\n",
              "      --disabled-fill-color: #AAA;\n",
              "      --disabled-bg-color: #DDD;\n",
              "  }\n",
              "\n",
              "  [theme=dark] .colab-df-quickchart {\n",
              "      --bg-color: #3B4455;\n",
              "      --fill-color: #D2E3FC;\n",
              "      --hover-bg-color: #434B5C;\n",
              "      --hover-fill-color: #FFFFFF;\n",
              "      --disabled-bg-color: #3B4455;\n",
              "      --disabled-fill-color: #666;\n",
              "  }\n",
              "\n",
              "  .colab-df-quickchart {\n",
              "    background-color: var(--bg-color);\n",
              "    border: none;\n",
              "    border-radius: 50%;\n",
              "    cursor: pointer;\n",
              "    display: none;\n",
              "    fill: var(--fill-color);\n",
              "    height: 32px;\n",
              "    padding: 0;\n",
              "    width: 32px;\n",
              "  }\n",
              "\n",
              "  .colab-df-quickchart:hover {\n",
              "    background-color: var(--hover-bg-color);\n",
              "    box-shadow: 0 1px 2px rgba(60, 64, 67, 0.3), 0 1px 3px 1px rgba(60, 64, 67, 0.15);\n",
              "    fill: var(--button-hover-fill-color);\n",
              "  }\n",
              "\n",
              "  .colab-df-quickchart-complete:disabled,\n",
              "  .colab-df-quickchart-complete:disabled:hover {\n",
              "    background-color: var(--disabled-bg-color);\n",
              "    fill: var(--disabled-fill-color);\n",
              "    box-shadow: none;\n",
              "  }\n",
              "\n",
              "  .colab-df-spinner {\n",
              "    border: 2px solid var(--fill-color);\n",
              "    border-color: transparent;\n",
              "    border-bottom-color: var(--fill-color);\n",
              "    animation:\n",
              "      spin 1s steps(1) infinite;\n",
              "  }\n",
              "\n",
              "  @keyframes spin {\n",
              "    0% {\n",
              "      border-color: transparent;\n",
              "      border-bottom-color: var(--fill-color);\n",
              "      border-left-color: var(--fill-color);\n",
              "    }\n",
              "    20% {\n",
              "      border-color: transparent;\n",
              "      border-left-color: var(--fill-color);\n",
              "      border-top-color: var(--fill-color);\n",
              "    }\n",
              "    30% {\n",
              "      border-color: transparent;\n",
              "      border-left-color: var(--fill-color);\n",
              "      border-top-color: var(--fill-color);\n",
              "      border-right-color: var(--fill-color);\n",
              "    }\n",
              "    40% {\n",
              "      border-color: transparent;\n",
              "      border-right-color: var(--fill-color);\n",
              "      border-top-color: var(--fill-color);\n",
              "    }\n",
              "    60% {\n",
              "      border-color: transparent;\n",
              "      border-right-color: var(--fill-color);\n",
              "    }\n",
              "    80% {\n",
              "      border-color: transparent;\n",
              "      border-right-color: var(--fill-color);\n",
              "      border-bottom-color: var(--fill-color);\n",
              "    }\n",
              "    90% {\n",
              "      border-color: transparent;\n",
              "      border-bottom-color: var(--fill-color);\n",
              "    }\n",
              "  }\n",
              "</style>\n",
              "\n",
              "  <script>\n",
              "    async function quickchart(key) {\n",
              "      const quickchartButtonEl =\n",
              "        document.querySelector('#' + key + ' button');\n",
              "      quickchartButtonEl.disabled = true;  // To prevent multiple clicks.\n",
              "      quickchartButtonEl.classList.add('colab-df-spinner');\n",
              "      try {\n",
              "        const charts = await google.colab.kernel.invokeFunction(\n",
              "            'suggestCharts', [key], {});\n",
              "      } catch (error) {\n",
              "        console.error('Error during call to suggestCharts:', error);\n",
              "      }\n",
              "      quickchartButtonEl.classList.remove('colab-df-spinner');\n",
              "      quickchartButtonEl.classList.add('colab-df-quickchart-complete');\n",
              "    }\n",
              "    (() => {\n",
              "      let quickchartButtonEl =\n",
              "        document.querySelector('#df-3aaf0541-431d-46b4-b52a-4a52956cdc7c button');\n",
              "      quickchartButtonEl.style.display =\n",
              "        google.colab.kernel.accessAllowed ? 'block' : 'none';\n",
              "    })();\n",
              "  </script>\n",
              "</div>\n",
              "    </div>\n",
              "  </div>\n"
            ]
          },
          "metadata": {},
          "execution_count": 7
        }
      ]
    },
    {
      "cell_type": "code",
      "source": [
        "data.info()"
      ],
      "metadata": {
        "colab": {
          "base_uri": "https://localhost:8080/"
        },
        "id": "rpuo6yNGLrxh",
        "outputId": "ef339abc-b541-4176-b0d6-1675fe41fc70"
      },
      "execution_count": 8,
      "outputs": [
        {
          "output_type": "stream",
          "name": "stdout",
          "text": [
            "<class 'pandas.core.frame.DataFrame'>\n",
            "RangeIndex: 5700 entries, 0 to 5699\n",
            "Data columns (total 13 columns):\n",
            " #   Column                                                             Non-Null Count  Dtype  \n",
            "---  ------                                                             --------------  -----  \n",
            " 0   Gender                                                             5696 non-null   object \n",
            " 1   Race (Reported)                                                    5194 non-null   object \n",
            " 2   Age                                                                5658 non-null   object \n",
            " 3   Height (cm)                                                        4554 non-null   float64\n",
            " 4   Weight (kg)                                                        5413 non-null   float64\n",
            " 5   Diabetes                                                           3283 non-null   float64\n",
            " 6   Simvastatin (Zocor)                                                3861 non-null   float64\n",
            " 7   Amiodarone (Cordarone)                                             4182 non-null   float64\n",
            " 8   Target INR                                                         1259 non-null   float64\n",
            " 9   INR on Reported Therapeutic Dose of Warfarin                       4968 non-null   float64\n",
            " 10  Cyp2C9 genotypes                                                   5567 non-null   object \n",
            " 11  VKORC1 genotype: -1639 G>A (3673); chr16:31015190; rs9923231; C/T  4046 non-null   object \n",
            " 12  Therapeutic Dose of Warfarin                                       5528 non-null   float64\n",
            "dtypes: float64(8), object(5)\n",
            "memory usage: 579.0+ KB\n"
          ]
        }
      ]
    },
    {
      "cell_type": "code",
      "source": [
        "# First drop all values we dont have a target label for\n",
        "# data = data.dropna(subset = 'Therapeutic Dose of Warfarin')"
      ],
      "metadata": {
        "id": "azC72EX9ML7t"
      },
      "execution_count": 9,
      "outputs": []
    },
    {
      "cell_type": "code",
      "source": [
        "data.info()"
      ],
      "metadata": {
        "colab": {
          "base_uri": "https://localhost:8080/"
        },
        "id": "f0khoTzPNYFS",
        "outputId": "f78d95fe-e94c-4385-d5ff-90ea986091da"
      },
      "execution_count": 10,
      "outputs": [
        {
          "output_type": "stream",
          "name": "stdout",
          "text": [
            "<class 'pandas.core.frame.DataFrame'>\n",
            "RangeIndex: 5700 entries, 0 to 5699\n",
            "Data columns (total 13 columns):\n",
            " #   Column                                                             Non-Null Count  Dtype  \n",
            "---  ------                                                             --------------  -----  \n",
            " 0   Gender                                                             5696 non-null   object \n",
            " 1   Race (Reported)                                                    5194 non-null   object \n",
            " 2   Age                                                                5658 non-null   object \n",
            " 3   Height (cm)                                                        4554 non-null   float64\n",
            " 4   Weight (kg)                                                        5413 non-null   float64\n",
            " 5   Diabetes                                                           3283 non-null   float64\n",
            " 6   Simvastatin (Zocor)                                                3861 non-null   float64\n",
            " 7   Amiodarone (Cordarone)                                             4182 non-null   float64\n",
            " 8   Target INR                                                         1259 non-null   float64\n",
            " 9   INR on Reported Therapeutic Dose of Warfarin                       4968 non-null   float64\n",
            " 10  Cyp2C9 genotypes                                                   5567 non-null   object \n",
            " 11  VKORC1 genotype: -1639 G>A (3673); chr16:31015190; rs9923231; C/T  4046 non-null   object \n",
            " 12  Therapeutic Dose of Warfarin                                       5528 non-null   float64\n",
            "dtypes: float64(8), object(5)\n",
            "memory usage: 579.0+ KB\n"
          ]
        }
      ]
    },
    {
      "cell_type": "code",
      "source": [
        "data.columns"
      ],
      "metadata": {
        "colab": {
          "base_uri": "https://localhost:8080/"
        },
        "id": "5666lV4qOPdq",
        "outputId": "d7538c26-9c32-456c-bba9-652c3f0e0ad1"
      },
      "execution_count": 11,
      "outputs": [
        {
          "output_type": "execute_result",
          "data": {
            "text/plain": [
              "Index(['Gender', 'Race (Reported)', 'Age', 'Height (cm)', 'Weight (kg)',\n",
              "       'Diabetes', 'Simvastatin (Zocor)', 'Amiodarone (Cordarone)',\n",
              "       'Target INR', 'INR on Reported Therapeutic Dose of Warfarin',\n",
              "       'Cyp2C9 genotypes',\n",
              "       'VKORC1 genotype: -1639 G>A (3673); chr16:31015190; rs9923231; C/T',\n",
              "       'Therapeutic Dose of Warfarin'],\n",
              "      dtype='object')"
            ]
          },
          "metadata": {},
          "execution_count": 11
        }
      ]
    },
    {
      "cell_type": "code",
      "source": [
        "# data.get('Gender')"
      ],
      "metadata": {
        "id": "IwplFkdKOq6V"
      },
      "execution_count": 12,
      "outputs": []
    },
    {
      "cell_type": "code",
      "source": [
        "# First Gender\n",
        "leGender = LabelEncoder()\n",
        "leGender.fit(data.get('Gender'))\n",
        "print(list(leGender.classes_))"
      ],
      "metadata": {
        "colab": {
          "base_uri": "https://localhost:8080/"
        },
        "id": "iKMvYQI3N0eF",
        "outputId": "ed53a075-e95d-42b1-9ce7-2c466bed026a"
      },
      "execution_count": 13,
      "outputs": [
        {
          "output_type": "stream",
          "name": "stdout",
          "text": [
            "['female', 'male', nan]\n"
          ]
        }
      ]
    },
    {
      "cell_type": "code",
      "source": [
        "data.iloc[:,0] = leGender.transform(data.iloc[:,0]).astype(float)"
      ],
      "metadata": {
        "colab": {
          "base_uri": "https://localhost:8080/"
        },
        "id": "yUVbhxxVPXOW",
        "outputId": "d9506126-f5c6-4a94-f483-c945e4ead4a0"
      },
      "execution_count": 14,
      "outputs": [
        {
          "output_type": "stream",
          "name": "stderr",
          "text": [
            "<ipython-input-14-b1f62be23b9d>:1: DeprecationWarning: In a future version, `df.iloc[:, i] = newvals` will attempt to set the values inplace instead of always setting a new array. To retain the old behavior, use either `df[df.columns[i]] = newvals` or, if columns are non-unique, `df.isetitem(i, newvals)`\n",
            "  data.iloc[:,0] = leGender.transform(data.iloc[:,0]).astype(float)\n"
          ]
        }
      ]
    },
    {
      "cell_type": "code",
      "source": [
        "# Next Race\n",
        "leRace = LabelEncoder()\n",
        "leRace.fit(data.get('Race (Reported)'))\n",
        "print(list(leRace.classes_))"
      ],
      "metadata": {
        "colab": {
          "base_uri": "https://localhost:8080/"
        },
        "id": "eclpb9YlRVDP",
        "outputId": "fb31136f-322d-48f5-bee7-7b39c9092d14"
      },
      "execution_count": 15,
      "outputs": [
        {
          "output_type": "stream",
          "name": "stdout",
          "text": [
            "['African-American', 'Asian', 'Black', 'Black African', 'Black Caribbean', 'Black or African American', 'Black other', 'Caucasian', 'Chinese', 'Han Chinese', 'Hispanic', 'Indian', 'Intermediate', 'Japanese', 'Korean', 'Malay', 'Other', 'Other (Black British)', 'Other (Hungarian)', 'Other Mixed Race', 'White', 'other', nan]\n"
          ]
        }
      ]
    },
    {
      "cell_type": "code",
      "source": [
        "data.iloc[:,1] = leRace.transform(data.iloc[:,1]).astype(float)"
      ],
      "metadata": {
        "colab": {
          "base_uri": "https://localhost:8080/"
        },
        "id": "_7i591QXRnHi",
        "outputId": "d095cbe8-9952-4d8b-ff05-017a52374140"
      },
      "execution_count": 16,
      "outputs": [
        {
          "output_type": "stream",
          "name": "stderr",
          "text": [
            "<ipython-input-16-35d7405e12f1>:1: DeprecationWarning: In a future version, `df.iloc[:, i] = newvals` will attempt to set the values inplace instead of always setting a new array. To retain the old behavior, use either `df[df.columns[i]] = newvals` or, if columns are non-unique, `df.isetitem(i, newvals)`\n",
            "  data.iloc[:,1] = leRace.transform(data.iloc[:,1]).astype(float)\n"
          ]
        }
      ]
    },
    {
      "cell_type": "code",
      "source": [
        "# Next Age\n",
        "leAge = LabelEncoder()\n",
        "leAge.fit(data.get('Age'))\n",
        "print(list(leAge.classes_))"
      ],
      "metadata": {
        "colab": {
          "base_uri": "https://localhost:8080/"
        },
        "id": "tWN-zWVnSAuR",
        "outputId": "5896ba5a-dd3b-469a-ceef-1d9dea7dbf3f"
      },
      "execution_count": 17,
      "outputs": [
        {
          "output_type": "stream",
          "name": "stdout",
          "text": [
            "['10 - 19', '20 - 29', '30 - 39', '40 - 49', '50 - 59', '60 - 69', '70 - 79', '80 - 89', '90+', nan]\n"
          ]
        }
      ]
    },
    {
      "cell_type": "code",
      "source": [
        "data.iloc[:,2] = leAge.transform(data.iloc[:,2]).astype(float)"
      ],
      "metadata": {
        "colab": {
          "base_uri": "https://localhost:8080/"
        },
        "id": "Qk4Yzc_aSI2G",
        "outputId": "e88a55cd-bbc7-42cd-9057-25ad66ded179"
      },
      "execution_count": 18,
      "outputs": [
        {
          "output_type": "stream",
          "name": "stderr",
          "text": [
            "<ipython-input-18-0ba9b2b551b4>:1: DeprecationWarning: In a future version, `df.iloc[:, i] = newvals` will attempt to set the values inplace instead of always setting a new array. To retain the old behavior, use either `df[df.columns[i]] = newvals` or, if columns are non-unique, `df.isetitem(i, newvals)`\n",
            "  data.iloc[:,2] = leAge.transform(data.iloc[:,2]).astype(float)\n"
          ]
        }
      ]
    },
    {
      "cell_type": "code",
      "source": [
        "# Cyp2c9 genotypes\n",
        "leCyp2c9 = LabelEncoder()\n",
        "leCyp2c9.fit(data.get('Cyp2C9 genotypes'))\n",
        "print(list(leCyp2c9.classes_))"
      ],
      "metadata": {
        "colab": {
          "base_uri": "https://localhost:8080/"
        },
        "id": "Z6gp7GUzSYGo",
        "outputId": "b0d2526a-bccb-46ca-c4b7-8ccc68d858cc"
      },
      "execution_count": 19,
      "outputs": [
        {
          "output_type": "stream",
          "name": "stdout",
          "text": [
            "['*1/*1', '*1/*11', '*1/*13', '*1/*14', '*1/*2', '*1/*3', '*1/*5', '*1/*6', '*2/*2', '*2/*3', '*3/*3', nan]\n"
          ]
        }
      ]
    },
    {
      "cell_type": "code",
      "source": [
        "data.iloc[:,10] = leCyp2c9.transform(data.iloc[:,10]).astype(float)"
      ],
      "metadata": {
        "colab": {
          "base_uri": "https://localhost:8080/"
        },
        "id": "noXCq2fuSvJz",
        "outputId": "a9b28187-782d-4c84-879a-013f6e000828"
      },
      "execution_count": 20,
      "outputs": [
        {
          "output_type": "stream",
          "name": "stderr",
          "text": [
            "<ipython-input-20-2724ee94df8c>:1: DeprecationWarning: In a future version, `df.iloc[:, i] = newvals` will attempt to set the values inplace instead of always setting a new array. To retain the old behavior, use either `df[df.columns[i]] = newvals` or, if columns are non-unique, `df.isetitem(i, newvals)`\n",
            "  data.iloc[:,10] = leCyp2c9.transform(data.iloc[:,10]).astype(float)\n"
          ]
        }
      ]
    },
    {
      "cell_type": "code",
      "source": [
        "# Lastly VKORC1\n",
        "leVKORC1 = LabelEncoder()\n",
        "leVKORC1.fit(data.get('VKORC1 genotype: -1639 G>A (3673); chr16:31015190; rs9923231; C/T'))\n",
        "print(list(leVKORC1.classes_))"
      ],
      "metadata": {
        "colab": {
          "base_uri": "https://localhost:8080/"
        },
        "id": "_zqBS5GIS8IJ",
        "outputId": "be3d3a80-183e-49e7-91b0-9c53ac6406dd"
      },
      "execution_count": 21,
      "outputs": [
        {
          "output_type": "stream",
          "name": "stdout",
          "text": [
            "['A/A', 'A/G', 'G/G', nan]\n"
          ]
        }
      ]
    },
    {
      "cell_type": "code",
      "source": [
        "data.iloc[:,11] = leVKORC1.transform(data.iloc[:,11]).astype(float)"
      ],
      "metadata": {
        "colab": {
          "base_uri": "https://localhost:8080/"
        },
        "id": "EmijJQGyTGzh",
        "outputId": "45fa3d8e-f917-48ac-9dae-d0b8c891ea3a"
      },
      "execution_count": 22,
      "outputs": [
        {
          "output_type": "stream",
          "name": "stderr",
          "text": [
            "<ipython-input-22-d932444c3e8e>:1: DeprecationWarning: In a future version, `df.iloc[:, i] = newvals` will attempt to set the values inplace instead of always setting a new array. To retain the old behavior, use either `df[df.columns[i]] = newvals` or, if columns are non-unique, `df.isetitem(i, newvals)`\n",
            "  data.iloc[:,11] = leVKORC1.transform(data.iloc[:,11]).astype(float)\n"
          ]
        }
      ]
    },
    {
      "cell_type": "code",
      "source": [
        "# Trial for Deiabetes imputer\n",
        "leDiabetes = LabelEncoder()\n",
        "leDiabetes.fit(data.get('Diabetes'))\n",
        "print(list(leDiabetes.classes_))"
      ],
      "metadata": {
        "colab": {
          "base_uri": "https://localhost:8080/"
        },
        "id": "5SnQBknEcyDt",
        "outputId": "37eadcf8-ed86-48cb-9ff6-0d61e014cd21"
      },
      "execution_count": 23,
      "outputs": [
        {
          "output_type": "stream",
          "name": "stdout",
          "text": [
            "[0.0, 1.0, nan]\n"
          ]
        }
      ]
    },
    {
      "cell_type": "code",
      "source": [
        "data.iloc[:,5] = leDiabetes.transform(data.iloc[:,5]).astype(float)"
      ],
      "metadata": {
        "id": "9v3GdyUJdFBP"
      },
      "execution_count": 24,
      "outputs": []
    },
    {
      "cell_type": "code",
      "source": [
        "# data.to_csv('leWarfarinInput1.csv')"
      ],
      "metadata": {
        "id": "Mpwp9JQfUKmd"
      },
      "execution_count": 25,
      "outputs": []
    },
    {
      "cell_type": "code",
      "source": [
        "# Apply Missing indicators\n",
        "step2_MissingIndicator = MissingIndicator() # Create an MissingIndicator instance\n",
        "step2_MIVs = step2_MissingIndicator.fit_transform(data.iloc[:,6:8]) # Generate MIVs\n",
        "step2_MIVs_df = pd.DataFrame(step2_MIVs, columns=data.iloc[:,6:8].columns + '_miss').replace({False: 0,True: 1})"
      ],
      "metadata": {
        "id": "nA6LhLksXG7T"
      },
      "execution_count": 26,
      "outputs": []
    },
    {
      "cell_type": "code",
      "source": [
        "step2_MIVs_df"
      ],
      "metadata": {
        "colab": {
          "base_uri": "https://localhost:8080/",
          "height": 423
        },
        "id": "R0t2JXRGZT-R",
        "outputId": "cb4513d8-3221-4dea-a1d5-704b7e8ff450"
      },
      "execution_count": 27,
      "outputs": [
        {
          "output_type": "execute_result",
          "data": {
            "text/plain": [
              "      Simvastatin (Zocor)_miss  Amiodarone (Cordarone)_miss\n",
              "0                            0                            0\n",
              "1                            0                            0\n",
              "2                            0                            0\n",
              "3                            0                            0\n",
              "4                            0                            0\n",
              "...                        ...                          ...\n",
              "5695                         0                            0\n",
              "5696                         0                            0\n",
              "5697                         0                            0\n",
              "5698                         0                            0\n",
              "5699                         0                            0\n",
              "\n",
              "[5700 rows x 2 columns]"
            ],
            "text/html": [
              "\n",
              "  <div id=\"df-5fff83b4-b799-4bab-83c6-57bc168c120d\" class=\"colab-df-container\">\n",
              "    <div>\n",
              "<style scoped>\n",
              "    .dataframe tbody tr th:only-of-type {\n",
              "        vertical-align: middle;\n",
              "    }\n",
              "\n",
              "    .dataframe tbody tr th {\n",
              "        vertical-align: top;\n",
              "    }\n",
              "\n",
              "    .dataframe thead th {\n",
              "        text-align: right;\n",
              "    }\n",
              "</style>\n",
              "<table border=\"1\" class=\"dataframe\">\n",
              "  <thead>\n",
              "    <tr style=\"text-align: right;\">\n",
              "      <th></th>\n",
              "      <th>Simvastatin (Zocor)_miss</th>\n",
              "      <th>Amiodarone (Cordarone)_miss</th>\n",
              "    </tr>\n",
              "  </thead>\n",
              "  <tbody>\n",
              "    <tr>\n",
              "      <th>0</th>\n",
              "      <td>0</td>\n",
              "      <td>0</td>\n",
              "    </tr>\n",
              "    <tr>\n",
              "      <th>1</th>\n",
              "      <td>0</td>\n",
              "      <td>0</td>\n",
              "    </tr>\n",
              "    <tr>\n",
              "      <th>2</th>\n",
              "      <td>0</td>\n",
              "      <td>0</td>\n",
              "    </tr>\n",
              "    <tr>\n",
              "      <th>3</th>\n",
              "      <td>0</td>\n",
              "      <td>0</td>\n",
              "    </tr>\n",
              "    <tr>\n",
              "      <th>4</th>\n",
              "      <td>0</td>\n",
              "      <td>0</td>\n",
              "    </tr>\n",
              "    <tr>\n",
              "      <th>...</th>\n",
              "      <td>...</td>\n",
              "      <td>...</td>\n",
              "    </tr>\n",
              "    <tr>\n",
              "      <th>5695</th>\n",
              "      <td>0</td>\n",
              "      <td>0</td>\n",
              "    </tr>\n",
              "    <tr>\n",
              "      <th>5696</th>\n",
              "      <td>0</td>\n",
              "      <td>0</td>\n",
              "    </tr>\n",
              "    <tr>\n",
              "      <th>5697</th>\n",
              "      <td>0</td>\n",
              "      <td>0</td>\n",
              "    </tr>\n",
              "    <tr>\n",
              "      <th>5698</th>\n",
              "      <td>0</td>\n",
              "      <td>0</td>\n",
              "    </tr>\n",
              "    <tr>\n",
              "      <th>5699</th>\n",
              "      <td>0</td>\n",
              "      <td>0</td>\n",
              "    </tr>\n",
              "  </tbody>\n",
              "</table>\n",
              "<p>5700 rows × 2 columns</p>\n",
              "</div>\n",
              "    <div class=\"colab-df-buttons\">\n",
              "\n",
              "  <div class=\"colab-df-container\">\n",
              "    <button class=\"colab-df-convert\" onclick=\"convertToInteractive('df-5fff83b4-b799-4bab-83c6-57bc168c120d')\"\n",
              "            title=\"Convert this dataframe to an interactive table.\"\n",
              "            style=\"display:none;\">\n",
              "\n",
              "  <svg xmlns=\"http://www.w3.org/2000/svg\" height=\"24px\" viewBox=\"0 -960 960 960\">\n",
              "    <path d=\"M120-120v-720h720v720H120Zm60-500h600v-160H180v160Zm220 220h160v-160H400v160Zm0 220h160v-160H400v160ZM180-400h160v-160H180v160Zm440 0h160v-160H620v160ZM180-180h160v-160H180v160Zm440 0h160v-160H620v160Z\"/>\n",
              "  </svg>\n",
              "    </button>\n",
              "\n",
              "  <style>\n",
              "    .colab-df-container {\n",
              "      display:flex;\n",
              "      gap: 12px;\n",
              "    }\n",
              "\n",
              "    .colab-df-convert {\n",
              "      background-color: #E8F0FE;\n",
              "      border: none;\n",
              "      border-radius: 50%;\n",
              "      cursor: pointer;\n",
              "      display: none;\n",
              "      fill: #1967D2;\n",
              "      height: 32px;\n",
              "      padding: 0 0 0 0;\n",
              "      width: 32px;\n",
              "    }\n",
              "\n",
              "    .colab-df-convert:hover {\n",
              "      background-color: #E2EBFA;\n",
              "      box-shadow: 0px 1px 2px rgba(60, 64, 67, 0.3), 0px 1px 3px 1px rgba(60, 64, 67, 0.15);\n",
              "      fill: #174EA6;\n",
              "    }\n",
              "\n",
              "    .colab-df-buttons div {\n",
              "      margin-bottom: 4px;\n",
              "    }\n",
              "\n",
              "    [theme=dark] .colab-df-convert {\n",
              "      background-color: #3B4455;\n",
              "      fill: #D2E3FC;\n",
              "    }\n",
              "\n",
              "    [theme=dark] .colab-df-convert:hover {\n",
              "      background-color: #434B5C;\n",
              "      box-shadow: 0px 1px 3px 1px rgba(0, 0, 0, 0.15);\n",
              "      filter: drop-shadow(0px 1px 2px rgba(0, 0, 0, 0.3));\n",
              "      fill: #FFFFFF;\n",
              "    }\n",
              "  </style>\n",
              "\n",
              "    <script>\n",
              "      const buttonEl =\n",
              "        document.querySelector('#df-5fff83b4-b799-4bab-83c6-57bc168c120d button.colab-df-convert');\n",
              "      buttonEl.style.display =\n",
              "        google.colab.kernel.accessAllowed ? 'block' : 'none';\n",
              "\n",
              "      async function convertToInteractive(key) {\n",
              "        const element = document.querySelector('#df-5fff83b4-b799-4bab-83c6-57bc168c120d');\n",
              "        const dataTable =\n",
              "          await google.colab.kernel.invokeFunction('convertToInteractive',\n",
              "                                                    [key], {});\n",
              "        if (!dataTable) return;\n",
              "\n",
              "        const docLinkHtml = 'Like what you see? Visit the ' +\n",
              "          '<a target=\"_blank\" href=https://colab.research.google.com/notebooks/data_table.ipynb>data table notebook</a>'\n",
              "          + ' to learn more about interactive tables.';\n",
              "        element.innerHTML = '';\n",
              "        dataTable['output_type'] = 'display_data';\n",
              "        await google.colab.output.renderOutput(dataTable, element);\n",
              "        const docLink = document.createElement('div');\n",
              "        docLink.innerHTML = docLinkHtml;\n",
              "        element.appendChild(docLink);\n",
              "      }\n",
              "    </script>\n",
              "  </div>\n",
              "\n",
              "\n",
              "<div id=\"df-19c10333-07a0-4f77-ad7c-116b7bd3ecac\">\n",
              "  <button class=\"colab-df-quickchart\" onclick=\"quickchart('df-19c10333-07a0-4f77-ad7c-116b7bd3ecac')\"\n",
              "            title=\"Suggest charts\"\n",
              "            style=\"display:none;\">\n",
              "\n",
              "<svg xmlns=\"http://www.w3.org/2000/svg\" height=\"24px\"viewBox=\"0 0 24 24\"\n",
              "     width=\"24px\">\n",
              "    <g>\n",
              "        <path d=\"M19 3H5c-1.1 0-2 .9-2 2v14c0 1.1.9 2 2 2h14c1.1 0 2-.9 2-2V5c0-1.1-.9-2-2-2zM9 17H7v-7h2v7zm4 0h-2V7h2v10zm4 0h-2v-4h2v4z\"/>\n",
              "    </g>\n",
              "</svg>\n",
              "  </button>\n",
              "\n",
              "<style>\n",
              "  .colab-df-quickchart {\n",
              "      --bg-color: #E8F0FE;\n",
              "      --fill-color: #1967D2;\n",
              "      --hover-bg-color: #E2EBFA;\n",
              "      --hover-fill-color: #174EA6;\n",
              "      --disabled-fill-color: #AAA;\n",
              "      --disabled-bg-color: #DDD;\n",
              "  }\n",
              "\n",
              "  [theme=dark] .colab-df-quickchart {\n",
              "      --bg-color: #3B4455;\n",
              "      --fill-color: #D2E3FC;\n",
              "      --hover-bg-color: #434B5C;\n",
              "      --hover-fill-color: #FFFFFF;\n",
              "      --disabled-bg-color: #3B4455;\n",
              "      --disabled-fill-color: #666;\n",
              "  }\n",
              "\n",
              "  .colab-df-quickchart {\n",
              "    background-color: var(--bg-color);\n",
              "    border: none;\n",
              "    border-radius: 50%;\n",
              "    cursor: pointer;\n",
              "    display: none;\n",
              "    fill: var(--fill-color);\n",
              "    height: 32px;\n",
              "    padding: 0;\n",
              "    width: 32px;\n",
              "  }\n",
              "\n",
              "  .colab-df-quickchart:hover {\n",
              "    background-color: var(--hover-bg-color);\n",
              "    box-shadow: 0 1px 2px rgba(60, 64, 67, 0.3), 0 1px 3px 1px rgba(60, 64, 67, 0.15);\n",
              "    fill: var(--button-hover-fill-color);\n",
              "  }\n",
              "\n",
              "  .colab-df-quickchart-complete:disabled,\n",
              "  .colab-df-quickchart-complete:disabled:hover {\n",
              "    background-color: var(--disabled-bg-color);\n",
              "    fill: var(--disabled-fill-color);\n",
              "    box-shadow: none;\n",
              "  }\n",
              "\n",
              "  .colab-df-spinner {\n",
              "    border: 2px solid var(--fill-color);\n",
              "    border-color: transparent;\n",
              "    border-bottom-color: var(--fill-color);\n",
              "    animation:\n",
              "      spin 1s steps(1) infinite;\n",
              "  }\n",
              "\n",
              "  @keyframes spin {\n",
              "    0% {\n",
              "      border-color: transparent;\n",
              "      border-bottom-color: var(--fill-color);\n",
              "      border-left-color: var(--fill-color);\n",
              "    }\n",
              "    20% {\n",
              "      border-color: transparent;\n",
              "      border-left-color: var(--fill-color);\n",
              "      border-top-color: var(--fill-color);\n",
              "    }\n",
              "    30% {\n",
              "      border-color: transparent;\n",
              "      border-left-color: var(--fill-color);\n",
              "      border-top-color: var(--fill-color);\n",
              "      border-right-color: var(--fill-color);\n",
              "    }\n",
              "    40% {\n",
              "      border-color: transparent;\n",
              "      border-right-color: var(--fill-color);\n",
              "      border-top-color: var(--fill-color);\n",
              "    }\n",
              "    60% {\n",
              "      border-color: transparent;\n",
              "      border-right-color: var(--fill-color);\n",
              "    }\n",
              "    80% {\n",
              "      border-color: transparent;\n",
              "      border-right-color: var(--fill-color);\n",
              "      border-bottom-color: var(--fill-color);\n",
              "    }\n",
              "    90% {\n",
              "      border-color: transparent;\n",
              "      border-bottom-color: var(--fill-color);\n",
              "    }\n",
              "  }\n",
              "</style>\n",
              "\n",
              "  <script>\n",
              "    async function quickchart(key) {\n",
              "      const quickchartButtonEl =\n",
              "        document.querySelector('#' + key + ' button');\n",
              "      quickchartButtonEl.disabled = true;  // To prevent multiple clicks.\n",
              "      quickchartButtonEl.classList.add('colab-df-spinner');\n",
              "      try {\n",
              "        const charts = await google.colab.kernel.invokeFunction(\n",
              "            'suggestCharts', [key], {});\n",
              "      } catch (error) {\n",
              "        console.error('Error during call to suggestCharts:', error);\n",
              "      }\n",
              "      quickchartButtonEl.classList.remove('colab-df-spinner');\n",
              "      quickchartButtonEl.classList.add('colab-df-quickchart-complete');\n",
              "    }\n",
              "    (() => {\n",
              "      let quickchartButtonEl =\n",
              "        document.querySelector('#df-19c10333-07a0-4f77-ad7c-116b7bd3ecac button');\n",
              "      quickchartButtonEl.style.display =\n",
              "        google.colab.kernel.accessAllowed ? 'block' : 'none';\n",
              "    })();\n",
              "  </script>\n",
              "</div>\n",
              "    </div>\n",
              "  </div>\n"
            ]
          },
          "metadata": {},
          "execution_count": 27
        }
      ]
    },
    {
      "cell_type": "code",
      "source": [
        "# Imputation KNN values for whole DataFrame (only certain columns will be selected)\n",
        "knn_imputer = KNNImputer(n_neighbors=3)\n",
        "impute_knn = knn_imputer.fit_transform(data)\n",
        "# impute_knn_df = pd.DataFrame(impute_knn, columns=data.iloc[:,4:6].columns + '_KNNimpute')\n",
        "# Concatenate the original dataset and the imputed data\n",
        "# impute_knn_df = pd.concat([data, impute_knn_df], axis=1)\n",
        "df_temp = pd.DataFrame(impute_knn)\n",
        "df_temp.columns = data.columns + '_impute'\n",
        "df_temp.columns"
      ],
      "metadata": {
        "colab": {
          "base_uri": "https://localhost:8080/"
        },
        "id": "7tKW4B-8bHA1",
        "outputId": "05e94e34-9694-481e-c943-af27d36fcf88"
      },
      "execution_count": 28,
      "outputs": [
        {
          "output_type": "execute_result",
          "data": {
            "text/plain": [
              "Index(['Gender_impute', 'Race (Reported)_impute', 'Age_impute',\n",
              "       'Height (cm)_impute', 'Weight (kg)_impute', 'Diabetes_impute',\n",
              "       'Simvastatin (Zocor)_impute', 'Amiodarone (Cordarone)_impute',\n",
              "       'Target INR_impute',\n",
              "       'INR on Reported Therapeutic Dose of Warfarin_impute',\n",
              "       'Cyp2C9 genotypes_impute',\n",
              "       'VKORC1 genotype: -1639 G>A (3673); chr16:31015190; rs9923231; C/T_impute',\n",
              "       'Therapeutic Dose of Warfarin_impute'],\n",
              "      dtype='object')"
            ]
          },
          "metadata": {},
          "execution_count": 28
        }
      ]
    },
    {
      "cell_type": "code",
      "source": [
        "df_temp.shape"
      ],
      "metadata": {
        "colab": {
          "base_uri": "https://localhost:8080/"
        },
        "id": "vGJWZBJZj_E5",
        "outputId": "182ea3c0-04c0-4976-f2c1-506b4e3f188f"
      },
      "execution_count": 29,
      "outputs": [
        {
          "output_type": "execute_result",
          "data": {
            "text/plain": [
              "(5700, 13)"
            ]
          },
          "metadata": {},
          "execution_count": 29
        }
      ]
    },
    {
      "cell_type": "code",
      "source": [
        "# # Simple Imputation KNN values\n",
        "# knn_imputer = KNNImputer(n_neighbors=3)\n",
        "# impute_knnINR = knn_imputer.fit_transform(data.iloc[:,10])\n",
        "# impute_knnINR_df = pd.DataFrame(impute_knnINR, columns=data.iloc[:,10].columns + '_KNNimpute')\n",
        "# # Concatenate the original dataset and the imputed data\n",
        "# # impute_knn_df = pd.concat([data, impute_knn_df], axis=1)"
      ],
      "metadata": {
        "id": "s6e1F5YUfchH"
      },
      "execution_count": 30,
      "outputs": []
    },
    {
      "cell_type": "code",
      "source": [
        "data.info()"
      ],
      "metadata": {
        "colab": {
          "base_uri": "https://localhost:8080/"
        },
        "id": "vYWuSq3OQOnu",
        "outputId": "1d6c5ded-c12d-4a84-e73a-40bf1469f7ac"
      },
      "execution_count": 31,
      "outputs": [
        {
          "output_type": "stream",
          "name": "stdout",
          "text": [
            "<class 'pandas.core.frame.DataFrame'>\n",
            "RangeIndex: 5700 entries, 0 to 5699\n",
            "Data columns (total 13 columns):\n",
            " #   Column                                                             Non-Null Count  Dtype  \n",
            "---  ------                                                             --------------  -----  \n",
            " 0   Gender                                                             5700 non-null   float64\n",
            " 1   Race (Reported)                                                    5700 non-null   float64\n",
            " 2   Age                                                                5700 non-null   float64\n",
            " 3   Height (cm)                                                        4554 non-null   float64\n",
            " 4   Weight (kg)                                                        5413 non-null   float64\n",
            " 5   Diabetes                                                           5700 non-null   float64\n",
            " 6   Simvastatin (Zocor)                                                3861 non-null   float64\n",
            " 7   Amiodarone (Cordarone)                                             4182 non-null   float64\n",
            " 8   Target INR                                                         1259 non-null   float64\n",
            " 9   INR on Reported Therapeutic Dose of Warfarin                       4968 non-null   float64\n",
            " 10  Cyp2C9 genotypes                                                   5700 non-null   float64\n",
            " 11  VKORC1 genotype: -1639 G>A (3673); chr16:31015190; rs9923231; C/T  5700 non-null   float64\n",
            " 12  Therapeutic Dose of Warfarin                                       5528 non-null   float64\n",
            "dtypes: float64(13)\n",
            "memory usage: 579.0 KB\n"
          ]
        }
      ]
    },
    {
      "cell_type": "code",
      "source": [
        "step2_MIVs_df.shape"
      ],
      "metadata": {
        "colab": {
          "base_uri": "https://localhost:8080/"
        },
        "id": "O1nPf4x_itnZ",
        "outputId": "6657d71a-0593-4138-8763-f49973b2fd5e"
      },
      "execution_count": 32,
      "outputs": [
        {
          "output_type": "execute_result",
          "data": {
            "text/plain": [
              "(5700, 2)"
            ]
          },
          "metadata": {},
          "execution_count": 32
        }
      ]
    },
    {
      "cell_type": "code",
      "source": [
        "# Target INR\n",
        "med = data.iloc[:,8].median()\n",
        "data.iloc[:,8] = data.iloc[:,8].fillna(value=med)"
      ],
      "metadata": {
        "id": "g-YrtXtKdb67"
      },
      "execution_count": 33,
      "outputs": []
    },
    {
      "cell_type": "code",
      "source": [
        "data = data.dropna(subset = 'Therapeutic Dose of Warfarin')"
      ],
      "metadata": {
        "id": "nHeOIL1jnCpY"
      },
      "execution_count": 34,
      "outputs": []
    },
    {
      "cell_type": "code",
      "source": [
        "# Begin final assignments\n",
        "data['Height (cm)'] = df_temp['Height (cm)_impute']\n",
        "data['Weight (kg)'] = df_temp['Weight (kg)_impute']\n",
        "data['Simvastatin (Zocor)'] = step2_MIVs_df['Simvastatin (Zocor)_miss'].astype(float)\n",
        "data['Amiodarone (Cordarone)'] = step2_MIVs_df['Amiodarone (Cordarone)_miss'].astype(float)\n",
        "data['INR on Reported Therapeutic Dose of Warfarin'] = df_temp['INR on Reported Therapeutic Dose of Warfarin_impute']"
      ],
      "metadata": {
        "colab": {
          "base_uri": "https://localhost:8080/"
        },
        "id": "hJ3XjOOMht3I",
        "outputId": "02ef6203-3578-45a6-aec5-6156470c7f8a"
      },
      "execution_count": 35,
      "outputs": [
        {
          "output_type": "stream",
          "name": "stderr",
          "text": [
            "<ipython-input-35-403f672e1a9a>:2: SettingWithCopyWarning: \n",
            "A value is trying to be set on a copy of a slice from a DataFrame.\n",
            "Try using .loc[row_indexer,col_indexer] = value instead\n",
            "\n",
            "See the caveats in the documentation: https://pandas.pydata.org/pandas-docs/stable/user_guide/indexing.html#returning-a-view-versus-a-copy\n",
            "  data['Height (cm)'] = df_temp['Height (cm)_impute']\n",
            "<ipython-input-35-403f672e1a9a>:3: SettingWithCopyWarning: \n",
            "A value is trying to be set on a copy of a slice from a DataFrame.\n",
            "Try using .loc[row_indexer,col_indexer] = value instead\n",
            "\n",
            "See the caveats in the documentation: https://pandas.pydata.org/pandas-docs/stable/user_guide/indexing.html#returning-a-view-versus-a-copy\n",
            "  data['Weight (kg)'] = df_temp['Weight (kg)_impute']\n",
            "<ipython-input-35-403f672e1a9a>:4: SettingWithCopyWarning: \n",
            "A value is trying to be set on a copy of a slice from a DataFrame.\n",
            "Try using .loc[row_indexer,col_indexer] = value instead\n",
            "\n",
            "See the caveats in the documentation: https://pandas.pydata.org/pandas-docs/stable/user_guide/indexing.html#returning-a-view-versus-a-copy\n",
            "  data['Simvastatin (Zocor)'] = step2_MIVs_df['Simvastatin (Zocor)_miss'].astype(float)\n",
            "<ipython-input-35-403f672e1a9a>:5: SettingWithCopyWarning: \n",
            "A value is trying to be set on a copy of a slice from a DataFrame.\n",
            "Try using .loc[row_indexer,col_indexer] = value instead\n",
            "\n",
            "See the caveats in the documentation: https://pandas.pydata.org/pandas-docs/stable/user_guide/indexing.html#returning-a-view-versus-a-copy\n",
            "  data['Amiodarone (Cordarone)'] = step2_MIVs_df['Amiodarone (Cordarone)_miss'].astype(float)\n",
            "<ipython-input-35-403f672e1a9a>:6: SettingWithCopyWarning: \n",
            "A value is trying to be set on a copy of a slice from a DataFrame.\n",
            "Try using .loc[row_indexer,col_indexer] = value instead\n",
            "\n",
            "See the caveats in the documentation: https://pandas.pydata.org/pandas-docs/stable/user_guide/indexing.html#returning-a-view-versus-a-copy\n",
            "  data['INR on Reported Therapeutic Dose of Warfarin'] = df_temp['INR on Reported Therapeutic Dose of Warfarin_impute']\n"
          ]
        }
      ]
    },
    {
      "cell_type": "code",
      "source": [
        "data.info()"
      ],
      "metadata": {
        "colab": {
          "base_uri": "https://localhost:8080/"
        },
        "id": "BsadjiqFjXRk",
        "outputId": "21c046b1-6d80-40ea-d31f-1a15b7f8de30"
      },
      "execution_count": 36,
      "outputs": [
        {
          "output_type": "stream",
          "name": "stdout",
          "text": [
            "<class 'pandas.core.frame.DataFrame'>\n",
            "Int64Index: 5528 entries, 0 to 5699\n",
            "Data columns (total 13 columns):\n",
            " #   Column                                                             Non-Null Count  Dtype  \n",
            "---  ------                                                             --------------  -----  \n",
            " 0   Gender                                                             5528 non-null   float64\n",
            " 1   Race (Reported)                                                    5528 non-null   float64\n",
            " 2   Age                                                                5528 non-null   float64\n",
            " 3   Height (cm)                                                        5528 non-null   float64\n",
            " 4   Weight (kg)                                                        5528 non-null   float64\n",
            " 5   Diabetes                                                           5528 non-null   float64\n",
            " 6   Simvastatin (Zocor)                                                5528 non-null   float64\n",
            " 7   Amiodarone (Cordarone)                                             5528 non-null   float64\n",
            " 8   Target INR                                                         5528 non-null   float64\n",
            " 9   INR on Reported Therapeutic Dose of Warfarin                       5528 non-null   float64\n",
            " 10  Cyp2C9 genotypes                                                   5528 non-null   float64\n",
            " 11  VKORC1 genotype: -1639 G>A (3673); chr16:31015190; rs9923231; C/T  5528 non-null   float64\n",
            " 12  Therapeutic Dose of Warfarin                                       5528 non-null   float64\n",
            "dtypes: float64(13)\n",
            "memory usage: 604.6 KB\n"
          ]
        }
      ]
    },
    {
      "cell_type": "code",
      "source": [
        "data.to_csv('preprocessedWarfarinCSML.csv')"
      ],
      "metadata": {
        "id": "JnEDMVRdnOct"
      },
      "execution_count": 37,
      "outputs": []
    },
    {
      "cell_type": "code",
      "source": [
        "import matplotlib.pyplot as plt"
      ],
      "metadata": {
        "id": "d2QGU20YH0bL"
      },
      "execution_count": 38,
      "outputs": []
    },
    {
      "cell_type": "code",
      "source": [
        "plt.scatter(data.iloc[:,4],data.iloc[:,12])\n",
        "plt.xscale('log')\n",
        "plt.yscale('log')\n",
        "plt.xlabel(\"Weight (kg)\")\n",
        "plt.ylabel(\"Theraputic Dose of Warfarin\")\n",
        "plt.show()"
      ],
      "metadata": {
        "colab": {
          "base_uri": "https://localhost:8080/",
          "height": 454
        },
        "id": "HCsl7d8eIyAo",
        "outputId": "03538912-d63c-46dc-ca4e-106382077d13"
      },
      "execution_count": 39,
      "outputs": [
        {
          "output_type": "display_data",
          "data": {
            "text/plain": [
              "<Figure size 640x480 with 1 Axes>"
            ],
            "image/png": "[encoded data removed]"
          },
          "metadata": {}
        }
      ]
    },
    {
      "cell_type": "code",
      "source": [
        "plt.matshow(data.corr())\n",
        "plt.show()"
      ],
      "metadata": {
        "colab": {
          "base_uri": "https://localhost:8080/",
          "height": 437
        },
        "id": "dTNN6GyQI8FO",
        "outputId": "6aadea8a-cae7-4a01-b2ad-ef59dd8a248d"
      },
      "execution_count": 40,
      "outputs": [
        {
          "output_type": "display_data",
          "data": {
            "text/plain": [
              "<Figure size 480x480 with 1 Axes>"
            ],
            "image/png": "[encoded data removed]"
          },
          "metadata": {}
        }
      ]
    }
  ]
}